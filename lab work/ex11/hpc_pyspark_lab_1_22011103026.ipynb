{
  "nbformat": 4,
  "nbformat_minor": 0,
  "metadata": {
    "colab": {
      "provenance": []
    },
    "kernelspec": {
      "name": "python3",
      "display_name": "Python 3"
    },
    "language_info": {
      "name": "python"
    }
  },
  "cells": [
    {
      "cell_type": "markdown",
      "source": [
        "# INTRODUCTION TO SPARK\n",
        "\n",
        "**Prepared by:**\n",
        "\n",
        "Raahul R <br>\n",
        "22011103043 <br>\n",
        "BTech CSE (Cyber Security), 3rd year"
      ],
      "metadata": {
        "id": "vY9NUZ_rhSq8"
      }
    },
    {
      "cell_type": "markdown",
      "source": [
        "# New Section"
      ],
      "metadata": {
        "id": "QjJTSYPEnXA5"
      }
    },
    {
      "cell_type": "code",
      "execution_count": 4,
      "metadata": {
        "id": "YCLqBG5eVDle"
      },
      "outputs": [],
      "source": [
        "from pyspark.sql import SparkSession\n",
        "from pyspark.sql.functions import when, avg, col\n",
        "from pyspark.ml.feature import StringIndexer\n",
        "import pyspark.sql.functions as F"
      ]
    },
    {
      "cell_type": "markdown",
      "source": [
        "Create Spark session"
      ],
      "metadata": {
        "id": "2nI8rm21XjBv"
      }
    },
    {
      "cell_type": "code",
      "source": [
        "spark = SparkSession.builder.appName(\"RealEstate\").getOrCreate()\n"
      ],
      "metadata": {
        "id": "yuD8zBYfX-FD"
      },
      "execution_count": 5,
      "outputs": []
    },
    {
      "cell_type": "markdown",
      "source": [
        "Dataframe"
      ],
      "metadata": {
        "id": "2ZYPVMv8bg4j"
      }
    },
    {
      "cell_type": "code",
      "source": [
        "df = spark.read.csv(\"/real_estate.csv\", header=True, inferSchema=True)\n",
        "df.printSchema()\n",
        "df.show(5)"
      ],
      "metadata": {
        "colab": {
          "base_uri": "https://localhost:8080/"
        },
        "id": "mdSvN0eUboXn",
        "outputId": "674a244e-8387-4491-d71d-a083be475cef"
      },
      "execution_count": 8,
      "outputs": [
        {
          "output_type": "stream",
          "name": "stdout",
          "text": [
            "root\n",
            " |-- Address: string (nullable = true)\n",
            " |-- Rooms: integer (nullable = true)\n",
            " |-- Price: integer (nullable = true)\n",
            " |-- Bedroom: integer (nullable = true)\n",
            " |-- Bathroom: integer (nullable = true)\n",
            " |-- Landsize: integer (nullable = true)\n",
            " |-- YearBuilt: integer (nullable = true)\n",
            " |-- Regionname: string (nullable = true)\n",
            " |-- Suburb: string (nullable = true)\n",
            " |-- Type: string (nullable = true)\n",
            "\n",
            "+----------------+-----+-------+-------+--------+--------+---------+--------------------+----------+----+\n",
            "|         Address|Rooms|  Price|Bedroom|Bathroom|Landsize|YearBuilt|          Regionname|    Suburb|Type|\n",
            "+----------------+-----+-------+-------+--------+--------+---------+--------------------+----------+----+\n",
            "|    85 Turner St|    2|1480000|      2|       1|     202|     NULL|Northern Metropol...|Abbotsford|   h|\n",
            "| 25 Bloomburg St|    2|1035000|      2|       1|     156|     1900|Northern Metropol...|Abbotsford|   h|\n",
            "|    5 Charles St|    3|1465000|      3|       2|     134|     1900|Northern Metropol...|Abbotsford|   h|\n",
            "|40 Federation La|    3| 850000|      3|       2|      94|     NULL|Northern Metropol...|Abbotsford|   h|\n",
            "|     55a Park St|    4|1600000|      3|       1|     120|     2014|Northern Metropol...|Abbotsford|   h|\n",
            "+----------------+-----+-------+-------+--------+--------+---------+--------------------+----------+----+\n",
            "only showing top 5 rows\n",
            "\n"
          ]
        }
      ]
    },
    {
      "cell_type": "markdown",
      "source": [
        "1. Encode Address Variable"
      ],
      "metadata": {
        "id": "6XzbIRifbzU1"
      }
    },
    {
      "cell_type": "code",
      "source": [
        "address_indexer = StringIndexer(inputCol=\"Address\", outputCol=\"Address_Index\")\n",
        "df = address_indexer.fit(df).transform(df)"
      ],
      "metadata": {
        "id": "3TzzO3SIb28D"
      },
      "execution_count": 9,
      "outputs": []
    },
    {
      "cell_type": "markdown",
      "source": [
        "2. Map the year of built (4-digits) to a single digit\n",
        "\n",
        "1800 -> 8 <br>\n",
        "[1801 - 1850] -> 7 <br>\n",
        "[1851 - 1900] -> 6 <br>\n",
        ".... <br>\n",
        "[2001 - 2023] -> 1 <br>\n",
        "otherwise -> 0"
      ],
      "metadata": {
        "id": "SLaqVsYtb9-m"
      }
    },
    {
      "cell_type": "code",
      "source": [
        "df = df.withColumn(\"YearBuilt\", col(\"YearBuilt\").cast(\"int\"))\n",
        "\n",
        "df = df.withColumn(\n",
        "    \"YearBuilt_Category\",\n",
        "    when(col(\"YearBuilt\") < 1800, 8)\n",
        "    .when((col(\"YearBuilt\") >= 1800) & (col(\"YearBuilt\") <= 1850), 7)\n",
        "    .when((col(\"YearBuilt\") >= 1851) & (col(\"YearBuilt\") <= 1900), 6)\n",
        "    .when((col(\"YearBuilt\") >= 1901) & (col(\"YearBuilt\") <= 1920), 5)\n",
        "    .when((col(\"YearBuilt\") >= 1921) & (col(\"YearBuilt\") <= 1950), 4)\n",
        "    .when((col(\"YearBuilt\") >= 1951) & (col(\"YearBuilt\") <= 1980), 3)\n",
        "    .when((col(\"YearBuilt\") >= 1981) & (col(\"YearBuilt\") <= 2000), 2)\n",
        "    .when((col(\"YearBuilt\") >= 2001) & (col(\"YearBuilt\") <= 2023), 1)\n",
        "    .otherwise(0)\n",
        ")"
      ],
      "metadata": {
        "id": "eTKWG4h4cw2y"
      },
      "execution_count": 10,
      "outputs": []
    },
    {
      "cell_type": "markdown",
      "source": [
        "3.Find the most dominant house type (mode) in the region Western Metropolitan in Sparkdf style and SQL style."
      ],
      "metadata": {
        "id": "BdbBMO52c4x3"
      }
    },
    {
      "cell_type": "code",
      "source": [
        "region_df = df.filter(col(\"Regionname\") == \"Western Metropolitan\")\n",
        "dominant_house_type = region_df.groupBy(\"Type\").count().orderBy(col(\"count\").desc()).first()[0]\n",
        "print(f\"Most Dominant House Type: {dominant_house_type}\")"
      ],
      "metadata": {
        "colab": {
          "base_uri": "https://localhost:8080/"
        },
        "id": "v0HwV49EdEEL",
        "outputId": "00aeb1b6-592f-4071-87c4-a3796e69e775"
      },
      "execution_count": 11,
      "outputs": [
        {
          "output_type": "stream",
          "name": "stdout",
          "text": [
            "Most Dominant House Type: h\n"
          ]
        }
      ]
    },
    {
      "cell_type": "code",
      "source": [
        "average_cost = region_df.groupBy(\"Type\").agg(avg(\"Price\").alias(\"Average_Cost\"))\n",
        "average_cost.show()"
      ],
      "metadata": {
        "colab": {
          "base_uri": "https://localhost:8080/"
        },
        "id": "89yIWhfbdNF_",
        "outputId": "c3c3fc48-0bb5-45fe-e919-eb2394849ba1"
      },
      "execution_count": 12,
      "outputs": [
        {
          "output_type": "stream",
          "name": "stdout",
          "text": [
            "+----+-----------------+\n",
            "|Type|     Average_Cost|\n",
            "+----+-----------------+\n",
            "|   h|950766.2659388647|\n",
            "|   u|488414.4248210024|\n",
            "|   t|720951.0460251046|\n",
            "+----+-----------------+\n",
            "\n"
          ]
        }
      ]
    },
    {
      "cell_type": "markdown",
      "source": [
        "4. Write SparkSQL query for the same"
      ],
      "metadata": {
        "id": "V7800B7AdoLV"
      }
    },
    {
      "cell_type": "code",
      "source": [
        "df.createOrReplaceTempView(\"real_estate\") # Creating a view out of the dataset"
      ],
      "metadata": {
        "id": "vjnec4podsjJ"
      },
      "execution_count": 13,
      "outputs": []
    },
    {
      "cell_type": "code",
      "source": [
        "dominant_house_type_query = \"\"\"\n",
        "SELECT Type, COUNT(*) AS count\n",
        "FROM real_estate\n",
        "WHERE Regionname = 'Western Metropolitan'\n",
        "GROUP BY Type\n",
        "ORDER BY count DESC\n",
        "LIMIT 1\n",
        "\"\"\"\n",
        "\n",
        "dominant_house_type = spark.sql(dominant_house_type_query).first()[0]\n",
        "print(f\"Most Dominant House Type: {dominant_house_type}\")"
      ],
      "metadata": {
        "colab": {
          "base_uri": "https://localhost:8080/"
        },
        "id": "sLqYc_Wnd742",
        "outputId": "9abe1439-0a76-4a21-c5dd-d171d25b3454"
      },
      "execution_count": 14,
      "outputs": [
        {
          "output_type": "stream",
          "name": "stdout",
          "text": [
            "Most Dominant House Type: h\n"
          ]
        }
      ]
    },
    {
      "cell_type": "code",
      "source": [
        "average_cost_query = \"\"\"\n",
        "SELECT Type, AVG(Price) AS Average_Cost\n",
        "FROM real_estate\n",
        "WHERE Regionname = 'Western Metropolitan'\n",
        "GROUP BY Type\n",
        "\"\"\"\n",
        "\n",
        "average_cost = spark.sql(average_cost_query)\n",
        "average_cost.show()"
      ],
      "metadata": {
        "colab": {
          "base_uri": "https://localhost:8080/"
        },
        "id": "qknrzxIqeTXP",
        "outputId": "0c7877b1-ba15-48a6-cbba-8ab450f5dc64"
      },
      "execution_count": 15,
      "outputs": [
        {
          "output_type": "stream",
          "name": "stdout",
          "text": [
            "+----+-----------------+\n",
            "|Type|     Average_Cost|\n",
            "+----+-----------------+\n",
            "|   h|950766.2659388647|\n",
            "|   u|488414.4248210024|\n",
            "|   t|720951.0460251046|\n",
            "+----+-----------------+\n",
            "\n"
          ]
        }
      ]
    },
    {
      "cell_type": "markdown",
      "source": [
        "5. Calculate the average cost of the rooms based on number of bedrooms available in map-reduce paradigm."
      ],
      "metadata": {
        "id": "1DVXDdmYgimN"
      }
    },
    {
      "cell_type": "code",
      "source": [
        "rdd = df.select(\"Bedroom\", \"Price\").rdd\n",
        "bedroom_price_pairs = rdd.map(lambda row: (row[\"Bedroom\"], (row[\"Price\"], 1)))\n",
        "bedroom_totals = bedroom_price_pairs.reduceByKey(\n",
        "    lambda acc, val: (acc[0] + val[0], acc[1] + val[1])\n",
        ")\n",
        "\n",
        "average_price_by_bedroom = bedroom_totals.mapValues(lambda x: x[0] / x[1])\n",
        "for bedroom, avg_price in average_price_by_bedroom.collect():\n",
        "    print(f\"Bedroom: {bedroom}, Average Price: {avg_price}\")"
      ],
      "metadata": {
        "colab": {
          "base_uri": "https://localhost:8080/"
        },
        "id": "Yb-98ji0guXH",
        "outputId": "984775ea-2184-43f7-da55-3867061ce0b9"
      },
      "execution_count": 16,
      "outputs": [
        {
          "output_type": "stream",
          "name": "stdout",
          "text": [
            "Bedroom: 2, Average Price: 787672.8067968959\n",
            "Bedroom: 3, Average Price: 1082497.8044436907\n",
            "Bedroom: 4, Average Price: 1452231.913110342\n",
            "Bedroom: 1, Average Price: 447282.4182344428\n",
            "Bedroom: 6, Average Price: 1831992.0634920634\n",
            "Bedroom: 5, Average Price: 1854027.1726618705\n",
            "Bedroom: 0, Average Price: 1030218.75\n",
            "Bedroom: 8, Average Price: 1423200.0\n",
            "Bedroom: 9, Average Price: 1487000.0\n",
            "Bedroom: 7, Average Price: 1865700.0\n",
            "Bedroom: 20, Average Price: 1650000.0\n",
            "Bedroom: 10, Average Price: 900000.0\n"
          ]
        }
      ]
    },
    {
      "cell_type": "code",
      "source": [
        "houses_before_2000 = df.filter(col(\"YearBuilt\") < 2000).count()\n",
        "print(f\"Number of houses built before 2000: {houses_before_2000}\")"
      ],
      "metadata": {
        "colab": {
          "base_uri": "https://localhost:8080/"
        },
        "id": "Cm2envQKm3J0",
        "outputId": "53f22bb5-d055-4ee5-a0ad-5bbceab1836a"
      },
      "execution_count": 17,
      "outputs": [
        {
          "output_type": "stream",
          "name": "stdout",
          "text": [
            "Number of houses built before 2000: 6169\n"
          ]
        }
      ]
    },
    {
      "cell_type": "code",
      "source": [
        "average_price = df.select(avg(\"Price\")).collect()[0][0]\n",
        "houses_above_average = df.filter(col(\"Price\") > average_price).count()\n",
        "print(f\"Number of houses with price greater than average: {houses_above_average}\")"
      ],
      "metadata": {
        "colab": {
          "base_uri": "https://localhost:8080/"
        },
        "id": "YPrt3Zg-m4zM",
        "outputId": "c0017f05-1773-48bf-d3c2-3d91ae03ce9a"
      },
      "execution_count": 18,
      "outputs": [
        {
          "output_type": "stream",
          "name": "stdout",
          "text": [
            "Number of houses with price greater than average: 5186\n"
          ]
        }
      ]
    },
    {
      "cell_type": "code",
      "source": [
        "average_price_specific = df.filter(\n",
        "    (col(\"Regionname\") == \"Southern Metropolitan\") & (col(\"Suburb\") == \"Albert Park\")\n",
        ").select(avg(\"Price\")).collect()[0][0]\n",
        "print(\n",
        "    f\"Average price in Southern Metropolitan, Albert Park: {average_price_specific}\"\n",
        ")"
      ],
      "metadata": {
        "colab": {
          "base_uri": "https://localhost:8080/"
        },
        "id": "20qw-6dym8Y3",
        "outputId": "5a55912f-c74d-4d61-d4e5-2cd59eaf32b9"
      },
      "execution_count": 19,
      "outputs": [
        {
          "output_type": "stream",
          "name": "stdout",
          "text": [
            "Average price in Southern Metropolitan, Albert Park: 1941355.072463768\n"
          ]
        }
      ]
    },
    {
      "cell_type": "code",
      "source": [
        "spark.stop()"
      ],
      "metadata": {
        "id": "lA85IkaodU_-"
      },
      "execution_count": 20,
      "outputs": []
    }
  ]
}